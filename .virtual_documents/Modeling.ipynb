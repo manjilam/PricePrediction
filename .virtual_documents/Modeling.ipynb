import pandas as pd
import numpy as np
import matplotlib.pyplot as plt
import seaborn as sns


df = pd.read_csv('datasets/train.csv')


df.head()


df.shape





missing_counts = df.isnull().sum()
unique_missing_counts = missing_counts.unique()

for count in unique_missing_counts:
    cols = missing_counts[missing_counts == count].index.tolist()
    print(f" Missing {count} values in {cols}")


 #check how many values missing in each column


df['Lot Frontage'] = df['Lot Frontage'].fillna(df['Lot Frontage'].mean()) # filled 330 values with mean
df['Alley'] = df['Alley'].fillna('NoAccess') # NoAcess means no alley access
df['Mas Vnr Area'] = df['Mas Vnr Area'].fillna(df['Mas Vnr Area']. median()) #filled 22 values with mean

df[['Bsmt Qual', 'Bsmt Cond', 'BsmtFin Type 1','Bsmt Exposure']] = df[['Bsmt Qual', 'Bsmt Cond', 'BsmtFin Type 1', 'Bsmt Exposure']].fillna('NoBasement')

#filing NA with NoBasement according to data dictionary for 'Bsmt Qual', 'Bsmt Cond', 'BsmtFin Type 1','Bsmt Exposure'

df = df.dropna(subset=['BsmtFin SF 1', 'BsmtFin SF 2', 'Bsmt Unf SF', 'Total Bsmt SF', 'Bsmt Full Bath', 'Bsmt Half Bath'])

# dropping row where these values are nan (total values dropped = 3 out of 2051)

df['Fireplace Qu'] = df['Fireplace Qu'].fillna('NoFireplace') #No fireplace from data dictionary

df['Garage Type'] = df['Garage Type'].fillna('NoGarage') #No garage from data dictionary
df[['Garage Yr Blt', 'Garage Finish', 'Garage Cond']] = df[['Garage Yr Blt', 'Garage Finish', 'Garage Cond']].fillna('NoGarage')
df[['Garage Qual']] = df[[ 'Garage Qual']].fillna('NoGarage')

# filling na with 0
df['Garage Cars'] = df['Garage Cars'].fillna(0)
df['Garage Area'] = df['Garage Area'].fillna(0)


df['Pool QC'] = df['Pool QC'].fillna('NoPool') # NoPool means no pool from data
#similarly for Fence as well as Misc_features
df['Fence'] = df['Fence'].fillna('NoFence')
df['Misc Feature'] = df['Misc Feature'].fillna('NoMisc')


df.shape


# list of columns to drop
# 'mas_vnr_type' = 1240 missing values, None is not possible, also for simplification
# 'bsmtfin_type_2' = 56 missing values 

df = df.drop(columns=['Mas Vnr Type', 'BsmtFin Type 2'])


df.dtypes.value_counts()


int_columns = df.select_dtypes(include=['int64']).columns
int_columns   #.isnull().sum()


float_columns = df.select_dtypes(include=['float64']).columns
float_columns       #.isnull().sum()


#correlation matrix
corr_matrix = df.corr(numeric_only=True)  # Ensure only numeric features are considered

plt.figure(figsize=(12, 8))

#heatmap using seaborn
sns.heatmap(corr_matrix, cmap="coolwarm", linewidths=0.5)

plt.title("Correlation Heatmap of Features")
plt.show()
object_columns = df.select_dtypes(include=['object']).columns
object_columns 


df.corr(numeric_only=True)['SalePrice'].sort_values(ascending=False)





print(df.corr(numeric_only=True)['SalePrice'][df.corr(numeric_only=True)['SalePrice'] >= 0.4].sort_values(ascending=False))
#print moderate to strong positive corelation for values to be used for modeling.


sns.scatterplot(x='Overall Qual', y='SalePrice', data=df, color = 'purple')
plt.title('Does SalePrice increase with increase in Overall Quality?')
plt.ylabel('SalePrice in $');





df[(df['Overall Qual']>=9) & (df['SalePrice']<200000)]

#checking for the outliers with high overall quality and low saleprice.


#similarly using second highest correlation to find similar outlier

sns.scatterplot(x=df['Gr Liv Area'],y=df['SalePrice'], color = 'orange')
plt.title('Does SalePrice increase with increase in Above ground living area square feet?')
plt.ylabel('SalePrice in $')
plt.xlabel('ground living area in square feet');





df[(df['Gr Liv Area']>4000) & (df['SalePrice']<200000)]

#to check for outlier points


row_1499 = df.loc[df['Id'] == 1499]
print(row_1499.to_string(index=False))


df = df.drop(index=[125,960,1885],axis=0)    # dropping the outliers 3 in total


#checking for the plot once they are removed

sns.scatterplot(x=df['Gr Liv Area'],y=df['SalePrice'], color = 'orange');


df['SalePrice'].describe()


import matplotlib.pyplot as plt

# Plot histogram for SalePrice
sns.histplot(df['SalePrice'],bins=40, color = 'navy')
plt.title('Distribution of SalePrice')
plt.xlabel('SalePrice in $')
plt.ylabel('Frequency')
plt.show()





#log transforming
df['LogSalePrice'] = np.log(df['SalePrice']) 

sns.histplot(df['LogSalePrice'], bins=50, kde=True, color= 'navy')
plt.title("Log-Transformed SalePrice Distribution")
plt.show()





df['MS SubClass'] = df['MS SubClass'].astype(str) # change into string because it is categrical variable


mean_by_subclass = df.groupby('MS SubClass')['SalePrice'].mean().sort_values(ascending=False)

#bar chart
plt.figure(figsize=(5, 3))
sns.barplot(x=mean_by_subclass.index, y=mean_by_subclass.values)

plt.title('Mean SalePrice by MS SubClass-Building Class', fontsize=10)
plt.xlabel('MS SubClass-Building Class', fontsize=10)
plt.ylabel('Mean SalePrice in $', fontsize=12)
plt.xticks(rotation=45)  
plt.tight_layout()

# Show the plot
plt.show()


print(df['MS SubClass'].dtypes)


garage_counts = df['Garage Type'].value_counts()

# Plot the bar chart
plt.figure(figsize=(8, 5))
sns.barplot(x=garage_counts.index, y=garage_counts.values, palette='viridis')

# Labels and title
plt.xlabel('Types of garage', fontsize=12)
plt.ylabel('Count', fontsize=12)
plt.title('Distribution of Garage Types', fontsize=14)
plt.xticks(rotation=45)  

# Show the plot
plt.show()


df = pd.get_dummies(df, columns=['Garage Type'], dtype = int , drop_first=True)

print(df.head())  


kaggle_data = pd.read_csv('datasets/test.csv')
kaggle_data.head()





from sklearn.linear_model import LinearRegression, Lasso
from sklearn.model_selection import train_test_split
from sklearn.metrics import mean_squared_error,r2_score
from sklearn import metrics
from sklearn.preprocessing import StandardScaler


# Load the datasets
train_df = df


# Set up our X and y variables.
#lesson 306
y = train_df['SalePrice']  # y = output, what we want to predict
X = train_df[['Overall Qual', 'Garage Area','Lot Area', 'Lot Frontage','Gr Liv Area','Year Built', 'Year Remod/Add','Fireplaces','Total Bsmt SF','Overall Cond','Garage Type_Attchd',
       'Garage Type_Basment', 'Garage Type_BuiltIn', 'Garage Type_CarPort',
       'Garage Type_Detchd', 'Garage Type_NoGarage','Mo Sold','Yr Sold', 'Garage Type_Attchd', 'Garage Type_Basment',
       'Garage Type_BuiltIn', 'Garage Type_CarPort', 'Garage Type_Detchd',
       'Garage Type_NoGarage']]
# X = inputs, what we use in order to predict y


#train-test split
X_train, X_test, y_train, y_test = train_test_split(X, y, random_state=42)


#Initialize and fit the model
lr = LinearRegression()
lr.fit(X_train, y_train)


# How did we do on the train vs test data?

lr.score(X_train, y_train)
# .score() will return R^2 value or coefficient of determination

print(f"Training R²: {lr.score(X_train, y_train)}")



#make predictions
y_pred_train = lr.predict(X_train)

# rmse 
rmse_train = metrics.root_mean_squared_error(y_train, y_pred_train)
print(f"Training RMSE: {rmse_train}")







coefficients = lr.coef_
intercept = lr.intercept_

# intercept and coefficients
print(f"Intercept: {intercept}")
coeff_df = pd.DataFrame({'Feature': X_train.columns, 'Coefficient': coefficients}).head(1)
coeff_df = coeff_df.sort_values(by='Coefficient', ascending=False)  # Sort by magnitude

print(coeff_df)







# predictions on the testing data
y_pred_test = lr.predict(X_test)

# RMSE and R² on testing data
rmse_test = metrics.root_mean_squared_error(y_test, y_pred_test)

# Calculate R² 
r2_test = r2_score(y_test, y_pred_test)

print(f"Testing RMSE: {rmse_test}")
print(f"Testing R²: {r2_test}")





# Load the datasets
train_df = df
test_df = kaggle_data

#shapes
print(f"Train Shape: {train_df.shape}, Test Shape: {test_df.shape}")


#dget_dummies and same imputation on test data as with train data
test_df['Garage Type'] = test_df['Garage Type'].fillna('NoGarage')
test_df = pd.get_dummies(test_df, columns=['Garage Type'], drop_first=True)


print(f"Train Shape: {train_df.shape}, Test Shape: {test_df.shape}")


#define  X and Ys
X_train = train_df[['Overall Qual', 'Garage Area','Lot Area', 'Lot Frontage','Gr Liv Area','Year Built', 'Year Remod/Add','Fireplaces','Total Bsmt SF','Overall Cond','Garage Type_Attchd',
       'Garage Type_Basment', 'Garage Type_BuiltIn', 'Garage Type_CarPort',
       'Garage Type_Detchd', 'Garage Type_NoGarage','Mo Sold','Yr Sold', 'Garage Type_Attchd', 'Garage Type_Basment',
       'Garage Type_BuiltIn', 'Garage Type_CarPort', 'Garage Type_Detchd',
       'Garage Type_NoGarage']]
y_train = train_df['SalePrice']


X_test = test_df[['Overall Qual', 'Garage Area','Lot Area', 'Lot Frontage','Gr Liv Area','Year Built', 'Year Remod/Add','Fireplaces','Total Bsmt SF','Overall Cond','Garage Type_Attchd',
       'Garage Type_Basment', 'Garage Type_BuiltIn', 'Garage Type_CarPort',
       'Garage Type_Detchd', 'Garage Type_NoGarage','Mo Sold','Yr Sold', 
        'Garage Type_Attchd', 'Garage Type_Basment',
       'Garage Type_BuiltIn', 'Garage Type_CarPort', 'Garage Type_Detchd',
       'Garage Type_NoGarage']]



#lesson 306


print(X_train.isnull().sum())  # Check missing values in training data
print(X_test.isnull().sum())  


X_test['Lot Frontage'] = X_test['Lot Frontage'].fillna(X_train['Lot Frontage'].median())  #use training data to fill missing


df.head()


# Initialize and fit the model
lr = LinearRegression()
lr.fit(X_train, y_train)


preds = lr.predict(X_test)

y_pred_train = lr.predict(X_train)

# rmse and bias
rmse_train = metrics.root_mean_squared_error(y_train, y_pred_train)
r2_train = r2_score((y_train), y_pred_train)
print(f"Training RMSE: {rmse_train}")

bias = np.mean((y_train) - (y_pred_train))
print(f"Training R²: {r2_train}")
print(f"Bias: {bias}")


coefficients = lr.coef_
intercept = lr.intercept_

# Print the intercept
print(f"Intercept: {intercept}")

# Print the coefficients along with their corresponding feature names
coeff_df = pd.DataFrame({'Feature': X_train.columns, 'Coefficient': coefficients}).head(5)
coeff_df = coeff_df.sort_values(by='Coefficient', ascending=False)  # Sort by magnitude

print(coeff_df)






# Create submission DataFrame with transformed preds
submission1 = pd.DataFrame({'Id': test_df['Id'], 'SalePrice': preds})

# Save to CSV
submission1.to_csv("submission1.csv", index=False)





train_df['LogSalePrice'] = np.log(train_df['SalePrice'])


#define  X and Ys
X_train = train_df[['Overall Qual', 'Garage Area','Lot Area', 'Lot Frontage','Gr Liv Area','Year Built', 'Year Remod/Add','Fireplaces','Total Bsmt SF','Overall Cond','Garage Type_Attchd',
       'Garage Type_Basment', 'Garage Type_BuiltIn', 'Garage Type_CarPort',
       'Garage Type_Detchd', 'Garage Type_NoGarage','Mo Sold','Yr Sold', 'Garage Type_Attchd', 'Garage Type_Basment',
       'Garage Type_BuiltIn', 'Garage Type_CarPort', 'Garage Type_Detchd',
       'Garage Type_NoGarage']]
y_train = train_df['LogSalePrice']


X_test = test_df[['Overall Qual', 'Garage Area','Lot Area', 'Lot Frontage','Gr Liv Area','Year Built', 'Year Remod/Add','Fireplaces','Total Bsmt SF','Overall Cond','Garage Type_Attchd',
       'Garage Type_Basment', 'Garage Type_BuiltIn', 'Garage Type_CarPort',
       'Garage Type_Detchd', 'Garage Type_NoGarage','Mo Sold','Yr Sold', 
        'Garage Type_Attchd', 'Garage Type_Basment',
       'Garage Type_BuiltIn', 'Garage Type_CarPort', 'Garage Type_Detchd',
       'Garage Type_NoGarage']]

#lesson 306


X_test['Lot Frontage'] = X_test['Lot Frontage'].fillna(X_train['Lot Frontage'].median())  #use training data to fill missing


# Initialize the model
lr = LinearRegression()


#fit the model
lr.fit(X_train, y_train)



preds = lr.predict(X_test)


#reverse log using exp to get SalePrice
#lesson 308 
preds_saleprice = np.exp(preds)


#training data prediction
y_pred_train = lr.predict(X_train)

#reverse log using exp on prediction
y_pred_train_saleprice = np.exp(y_pred_train)

# calculate RMSE for training data
rmse_train = metrics.root_mean_squared_error(np.exp(y_train), y_pred_train_saleprice)

#R² with the transformed values
r2_train = r2_score(np.exp(y_train), y_pred_train_saleprice)
print(f"Training RMSE: {rmse_train}")
print(f"Training R²: {r2_train}")

coefficients = lr.coef_
intercept = lr.intercept_

print(f"Intercept: {intercept}")

# print the coefficients along with their corresponding feature names
coeff_df = pd.DataFrame({'Feature': X_train.columns, 'Coefficient': coefficients}).head(5)
coeff_df = coeff_df.sort_values(by='Coefficient', ascending=False)  # Sort by magnitude

print(coeff_df)








#Create submission DataFrame with transformed preds
submission2 = pd.DataFrame({'Id': test_df['Id'], 'SalePrice': preds_saleprice})

# Save to CSV
submission2.to_csv("submission2.csv", index=False)


submission2





train_df['LogSalePrice'] = np.log(train_df['SalePrice'])



#define  X and Ys
X_train = train_df[['Overall Qual', 'Garage Area','Lot Area', 'Lot Frontage','Gr Liv Area','Year Built', 'Year Remod/Add','Fireplaces','Total Bsmt SF','Overall Cond','Garage Type_Attchd',
       'Garage Type_Basment', 'Garage Type_BuiltIn', 'Garage Type_CarPort',
       'Garage Type_Detchd', 'Garage Type_NoGarage','Mo Sold','Yr Sold', 'Garage Type_Attchd', 'Garage Type_Basment',
       'Garage Type_BuiltIn', 'Garage Type_CarPort', 'Garage Type_Detchd',
       'Garage Type_NoGarage']]
y_train = train_df['LogSalePrice']


X_test = test_df[['Overall Qual', 'Garage Area','Lot Area', 'Lot Frontage','Gr Liv Area','Year Built', 'Year Remod/Add','Fireplaces','Total Bsmt SF','Overall Cond','Garage Type_Attchd',
       'Garage Type_Basment', 'Garage Type_BuiltIn', 'Garage Type_CarPort',
       'Garage Type_Detchd', 'Garage Type_NoGarage','Mo Sold','Yr Sold', 
        'Garage Type_Attchd', 'Garage Type_Basment',
       'Garage Type_BuiltIn', 'Garage Type_CarPort', 'Garage Type_Detchd',
       'Garage Type_NoGarage']]

#lesson 306


X_test['Lot Frontage'] = X_test['Lot Frontage'].fillna(X_train['Lot Frontage'].median())  #use training data to fill missing


#lesson 403
# standard scaling
scaler = StandardScaler()
X_train_scaled = scaler.fit_transform(X_train)
X_test_scaled = scaler.transform(X_test)

lr = LinearRegression()
lr.fit(X_train_scaled, y_train)


# predictons
y_pred_train = lr.predict(X_train_scaled)
y_pred_test = lr.predict(X_test_scaled)

# Reverse log 
y_pred_train_saleprice = np.exp(y_pred_train)
y_pred_test_saleprice = np.exp(y_pred_test)

# rmse
rmse_train = metrics.root_mean_squared_error(y_train, y_pred_train_saleprice)

# R² for training data
r2_train = r2_score(np.exp(y_train), np.exp(y_pred_train))

print(f"Training RMSE: {rmse_train}")
print(f"Training R²: {r2_train}")



y_pred_test_saleprice


# Create submission DataFrame with transformed preds
submission3 = pd.DataFrame({'Id': test_df['Id'], 'SalePrice': y_pred_test_saleprice})

# Save to CSV
submission3.to_csv("submission3.csv", index=False)





#define  X and Ys
X_train = train_df[['Overall Qual', 'Garage Area','Lot Area', 'Lot Frontage','Gr Liv Area','Year Built', 'Year Remod/Add','Fireplaces','Total Bsmt SF','Overall Cond','Garage Type_Attchd',
       'Garage Type_Basment', 'Garage Type_BuiltIn', 'Garage Type_CarPort',
       'Garage Type_Detchd', 'Garage Type_NoGarage','Mo Sold','Yr Sold', 'Garage Type_Attchd', 'Garage Type_Basment',
       'Garage Type_BuiltIn', 'Garage Type_CarPort', 'Garage Type_Detchd',
       'Garage Type_NoGarage']]
y_train = train_df['SalePrice']


X_test = test_df[['Overall Qual', 'Garage Area','Lot Area', 'Lot Frontage','Gr Liv Area','Year Built', 'Year Remod/Add','Fireplaces','Total Bsmt SF','Overall Cond','Garage Type_Attchd',
       'Garage Type_Basment', 'Garage Type_BuiltIn', 'Garage Type_CarPort',
       'Garage Type_Detchd', 'Garage Type_NoGarage','Mo Sold','Yr Sold', 
        'Garage Type_Attchd', 'Garage Type_Basment',
       'Garage Type_BuiltIn', 'Garage Type_CarPort', 'Garage Type_Detchd',
       'Garage Type_NoGarage']]

#lesson 306


X_test['Lot Frontage'] = X_test['Lot Frontage'].fillna(X_train['Lot Frontage'].median())
#use training data to fill missing



# initialize and fit the model 
lasso = Lasso(alpha=0.1)  
lasso.fit(X_train, y_train)



# Generate predictions on test data
preds = lasso.predict(X_test)

y_pred_train = lasso.predict(X_train)

rmse_train = metrics.root_mean_squared_error(y_train, y_pred_train)
r2_train = r2_score(y_train, y_pred_train)

print(f"Training RMSE: {rmse_train}")
print(f"Training R²: {r2_train}")



# Create submission DataFrame with transformed preds
submission4 = pd.DataFrame({'Id': test_df['Id'], 'SalePrice': preds})

# Save to CSV
submission4.to_csv("submission4.csv", index=False)
